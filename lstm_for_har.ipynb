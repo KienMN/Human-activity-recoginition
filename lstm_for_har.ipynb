{
 "cells": [
  {
   "cell_type": "markdown",
   "metadata": {},
   "source": [
    "# LSTMs for Human Activity Recognition Time Series Classification"
   ]
  },
  {
   "cell_type": "code",
   "execution_count": 1,
   "metadata": {},
   "outputs": [],
   "source": [
    "import pandas as pd\n",
    "import numpy as np\n",
    "import matplotlib.pyplot as plt\n",
    "import tensorflow as tf"
   ]
  },
  {
   "cell_type": "markdown",
   "metadata": {},
   "source": [
    "## Load the dataset"
   ]
  },
  {
   "cell_type": "code",
   "execution_count": 2,
   "metadata": {},
   "outputs": [],
   "source": [
    "from utils import load_dataset"
   ]
  },
  {
   "cell_type": "code",
   "execution_count": 3,
   "metadata": {},
   "outputs": [
    {
     "data": {
      "text/plain": [
       "((7352, 128, 9), (7352, 1), (2947, 128, 9), (2947, 1))"
      ]
     },
     "execution_count": 3,
     "metadata": {},
     "output_type": "execute_result"
    }
   ],
   "source": [
    "X_train, y_train = load_dataset(group='train', prefix='HARDataset/')\n",
    "X_test, y_test = load_dataset(group='test', prefix='HARDataset/')\n",
    "X_train.shape, y_train.shape, X_test.shape, y_test.shape"
   ]
  },
  {
   "cell_type": "code",
   "execution_count": 4,
   "metadata": {},
   "outputs": [],
   "source": [
    "y_train = tf.keras.utils.to_categorical(y_train - 1)\n",
    "y_test = tf.keras.utils.to_categorical(y_test - 1)"
   ]
  },
  {
   "cell_type": "code",
   "execution_count": 5,
   "metadata": {},
   "outputs": [
    {
     "data": {
      "text/plain": [
       "((7352, 6), (2947, 6))"
      ]
     },
     "execution_count": 5,
     "metadata": {},
     "output_type": "execute_result"
    }
   ],
   "source": [
    "y_train.shape, y_test.shape"
   ]
  },
  {
   "cell_type": "markdown",
   "metadata": {},
   "source": [
    "## Fit and evaluate the model"
   ]
  },
  {
   "cell_type": "code",
   "execution_count": 6,
   "metadata": {},
   "outputs": [],
   "source": [
    "n_timesteps, n_features, n_outputs = X_train.shape[1], X_train.shape[2], y_train.shape[1]"
   ]
  },
  {
   "cell_type": "code",
   "execution_count": 7,
   "metadata": {},
   "outputs": [],
   "source": [
    "def create_lstm_model():\n",
    "  return tf.keras.Sequential([\n",
    "    tf.keras.layers.InputLayer(input_shape=(n_timesteps, n_features)),\n",
    "    tf.keras.layers.LSTM(100),\n",
    "    tf.keras.layers.Dropout(0.5),\n",
    "    tf.keras.layers.Dense(100, activation='relu'),\n",
    "    tf.keras.layers.Dense(n_outputs)\n",
    "  ])"
   ]
  },
  {
   "cell_type": "code",
   "execution_count": 8,
   "metadata": {},
   "outputs": [
    {
     "name": "stdout",
     "output_type": "stream",
     "text": [
      "Model: \"sequential\"\n",
      "_________________________________________________________________\n",
      "Layer (type)                 Output Shape              Param #   \n",
      "=================================================================\n",
      "lstm (LSTM)                  (None, 100)               44000     \n",
      "_________________________________________________________________\n",
      "dropout (Dropout)            (None, 100)               0         \n",
      "_________________________________________________________________\n",
      "dense (Dense)                (None, 100)               10100     \n",
      "_________________________________________________________________\n",
      "dense_1 (Dense)              (None, 6)                 606       \n",
      "=================================================================\n",
      "Total params: 54,706\n",
      "Trainable params: 54,706\n",
      "Non-trainable params: 0\n",
      "_________________________________________________________________\n"
     ]
    }
   ],
   "source": [
    "model = create_lstm_model()\n",
    "model.summary()"
   ]
  },
  {
   "cell_type": "code",
   "execution_count": 9,
   "metadata": {},
   "outputs": [],
   "source": [
    "model.compile(loss=tf.keras.losses.CategoricalCrossentropy(from_logits=True),\n",
    "              optimizer=tf.keras.optimizers.Adam(),\n",
    "              metrics=['accuracy'])"
   ]
  },
  {
   "cell_type": "code",
   "execution_count": 10,
   "metadata": {},
   "outputs": [],
   "source": [
    "EPOCHS = 15\n",
    "BATCH_SIZE = 64"
   ]
  },
  {
   "cell_type": "code",
   "execution_count": 11,
   "metadata": {},
   "outputs": [
    {
     "name": "stdout",
     "output_type": "stream",
     "text": [
      "Train on 7352 samples, validate on 2947 samples\n",
      "Epoch 1/15\n",
      "7352/7352 [==============================] - 4s 581us/sample - loss: 1.2221 - accuracy: 0.4825 - val_loss: 0.9725 - val_accuracy: 0.5887\n",
      "Epoch 2/15\n",
      "7352/7352 [==============================] - 2s 309us/sample - loss: 0.7867 - accuracy: 0.6527 - val_loss: 0.8335 - val_accuracy: 0.6434\n",
      "Epoch 3/15\n",
      "7352/7352 [==============================] - 2s 257us/sample - loss: 0.6324 - accuracy: 0.7286 - val_loss: 0.6434 - val_accuracy: 0.7618\n",
      "Epoch 4/15\n",
      "7352/7352 [==============================] - 2s 295us/sample - loss: 0.5509 - accuracy: 0.7967 - val_loss: 0.4877 - val_accuracy: 0.8419\n",
      "Epoch 5/15\n",
      "7352/7352 [==============================] - 2s 296us/sample - loss: 0.3898 - accuracy: 0.8619 - val_loss: 0.4707 - val_accuracy: 0.8198\n",
      "Epoch 6/15\n",
      "7352/7352 [==============================] - 2s 270us/sample - loss: 0.3304 - accuracy: 0.8808 - val_loss: 0.5433 - val_accuracy: 0.8045\n",
      "Epoch 7/15\n",
      "7352/7352 [==============================] - 2s 275us/sample - loss: 0.2166 - accuracy: 0.9249 - val_loss: 0.3392 - val_accuracy: 0.8887\n",
      "Epoch 8/15\n",
      "7352/7352 [==============================] - 2s 276us/sample - loss: 0.1724 - accuracy: 0.9363 - val_loss: 0.4130 - val_accuracy: 0.8850\n",
      "Epoch 9/15\n",
      "7352/7352 [==============================] - 2s 261us/sample - loss: 0.2466 - accuracy: 0.9172 - val_loss: 0.3123 - val_accuracy: 0.8890\n",
      "Epoch 10/15\n",
      "7352/7352 [==============================] - 2s 277us/sample - loss: 0.2043 - accuracy: 0.9301 - val_loss: 0.3414 - val_accuracy: 0.8955\n",
      "Epoch 11/15\n",
      "7352/7352 [==============================] - 2s 272us/sample - loss: 0.1454 - accuracy: 0.9433 - val_loss: 0.3274 - val_accuracy: 0.8935\n",
      "Epoch 12/15\n",
      "7352/7352 [==============================] - 2s 272us/sample - loss: 0.1359 - accuracy: 0.9452 - val_loss: 0.2993 - val_accuracy: 0.9094\n",
      "Epoch 13/15\n",
      "7352/7352 [==============================] - 2s 269us/sample - loss: 0.1547 - accuracy: 0.9406 - val_loss: 0.3760 - val_accuracy: 0.8938\n",
      "Epoch 14/15\n",
      "7352/7352 [==============================] - 2s 274us/sample - loss: 0.1380 - accuracy: 0.9470 - val_loss: 0.2868 - val_accuracy: 0.9026\n",
      "Epoch 15/15\n",
      "7352/7352 [==============================] - 2s 271us/sample - loss: 0.1219 - accuracy: 0.9520 - val_loss: 0.2689 - val_accuracy: 0.9114\n"
     ]
    },
    {
     "data": {
      "text/plain": [
       "<tensorflow.python.keras.callbacks.History at 0x7f03e827ed30>"
      ]
     },
     "execution_count": 11,
     "metadata": {},
     "output_type": "execute_result"
    }
   ],
   "source": [
    "model.fit(X_train,\n",
    "          y_train,\n",
    "          epochs=EPOCHS,\n",
    "          batch_size=BATCH_SIZE,\n",
    "          validation_data=(X_test, y_test))"
   ]
  },
  {
   "cell_type": "markdown",
   "metadata": {},
   "source": [
    "## Develop a CNN-LSTM Network Model\n",
    "One approach to implementing this model is to split each window of 128 time steps into subsequences for the CNN model to process. For example, the 128 time steps in each window can be split into four subsequences of 32 time steps."
   ]
  },
  {
   "cell_type": "code",
   "execution_count": 12,
   "metadata": {},
   "outputs": [],
   "source": [
    "# Reshape data into time steps of sub-sequences\n",
    "n_steps, n_length = 4, 32\n",
    "X_train = X_train.reshape(-1, n_steps, n_length, n_features)\n",
    "X_test = X_test.reshape(-1, n_steps, n_length, n_features)"
   ]
  },
  {
   "cell_type": "code",
   "execution_count": 24,
   "metadata": {},
   "outputs": [],
   "source": [
    "# Define the model\n",
    "def create_cnn_lstm_model():\n",
    "  return tf.keras.Sequential([\n",
    "    tf.keras.layers.InputLayer(input_shape=(None, n_length, n_features)),\n",
    "    tf.keras.layers.TimeDistributed(tf.keras.layers.Conv1D(filters=64, kernel_size=3, activation='relu')),\n",
    "    tf.keras.layers.TimeDistributed(tf.keras.layers.Conv1D(filters=64, kernel_size=3, activation='relu')),\n",
    "    tf.keras.layers.TimeDistributed(tf.keras.layers.Dropout(0.5)),\n",
    "    tf.keras.layers.TimeDistributed(tf.keras.layers.MaxPool1D(pool_size=2)),\n",
    "    tf.keras.layers.TimeDistributed(tf.keras.layers.Flatten()),\n",
    "    tf.keras.layers.LSTM(100),\n",
    "    tf.keras.layers.Dropout(0.5),\n",
    "    tf.keras.layers.Dense(100, activation='relu'),\n",
    "    tf.keras.layers.Dense(n_outputs)\n",
    "  ])"
   ]
  },
  {
   "cell_type": "code",
   "execution_count": 25,
   "metadata": {},
   "outputs": [
    {
     "name": "stdout",
     "output_type": "stream",
     "text": [
      "Model: \"sequential_4\"\n",
      "_________________________________________________________________\n",
      "Layer (type)                 Output Shape              Param #   \n",
      "=================================================================\n",
      "time_distributed_15 (TimeDis (None, None, 30, 64)      1792      \n",
      "_________________________________________________________________\n",
      "time_distributed_16 (TimeDis (None, None, 28, 64)      12352     \n",
      "_________________________________________________________________\n",
      "time_distributed_17 (TimeDis (None, None, 28, 64)      0         \n",
      "_________________________________________________________________\n",
      "time_distributed_18 (TimeDis (None, None, 14, 64)      0         \n",
      "_________________________________________________________________\n",
      "time_distributed_19 (TimeDis (None, None, 896)         0         \n",
      "_________________________________________________________________\n",
      "lstm_4 (LSTM)                (None, 100)               398800    \n",
      "_________________________________________________________________\n",
      "dropout_8 (Dropout)          (None, 100)               0         \n",
      "_________________________________________________________________\n",
      "dense_5 (Dense)              (None, 100)               10100     \n",
      "_________________________________________________________________\n",
      "dense_6 (Dense)              (None, 6)                 606       \n",
      "=================================================================\n",
      "Total params: 423,650\n",
      "Trainable params: 423,650\n",
      "Non-trainable params: 0\n",
      "_________________________________________________________________\n"
     ]
    }
   ],
   "source": [
    "model = create_cnn_lstm_model()\n",
    "model.summary()"
   ]
  },
  {
   "cell_type": "code",
   "execution_count": 26,
   "metadata": {},
   "outputs": [],
   "source": [
    "model.compile(loss=tf.keras.losses.CategoricalCrossentropy(from_logits=True),\n",
    "              optimizer=tf.keras.optimizers.Adam(),\n",
    "              metrics=['accuracy'])"
   ]
  },
  {
   "cell_type": "code",
   "execution_count": 27,
   "metadata": {},
   "outputs": [
    {
     "name": "stdout",
     "output_type": "stream",
     "text": [
      "Train on 7352 samples, validate on 2947 samples\n",
      "Epoch 1/15\n",
      "7352/7352 [==============================] - 3s 416us/sample - loss: 0.5960 - accuracy: 0.7545 - val_loss: 0.5156 - val_accuracy: 0.8151\n",
      "Epoch 2/15\n",
      "7352/7352 [==============================] - 1s 173us/sample - loss: 0.2045 - accuracy: 0.9223 - val_loss: 0.4343 - val_accuracy: 0.8833\n",
      "Epoch 3/15\n",
      "7352/7352 [==============================] - 1s 184us/sample - loss: 0.1471 - accuracy: 0.9429 - val_loss: 0.4142 - val_accuracy: 0.8809\n",
      "Epoch 4/15\n",
      "7352/7352 [==============================] - 1s 175us/sample - loss: 0.1247 - accuracy: 0.9484 - val_loss: 0.4043 - val_accuracy: 0.8945\n",
      "Epoch 5/15\n",
      "7352/7352 [==============================] - 1s 194us/sample - loss: 0.1423 - accuracy: 0.9442 - val_loss: 0.3803 - val_accuracy: 0.8965\n",
      "Epoch 6/15\n",
      "7352/7352 [==============================] - 1s 177us/sample - loss: 0.1156 - accuracy: 0.9535 - val_loss: 0.4174 - val_accuracy: 0.8921\n",
      "Epoch 7/15\n",
      "7352/7352 [==============================] - 2s 207us/sample - loss: 0.1166 - accuracy: 0.9498 - val_loss: 0.3763 - val_accuracy: 0.8975\n",
      "Epoch 8/15\n",
      "7352/7352 [==============================] - 1s 181us/sample - loss: 0.1043 - accuracy: 0.9546 - val_loss: 0.4721 - val_accuracy: 0.8728\n",
      "Epoch 9/15\n",
      "7352/7352 [==============================] - 2s 210us/sample - loss: 0.1113 - accuracy: 0.9529 - val_loss: 0.4447 - val_accuracy: 0.8846\n",
      "Epoch 10/15\n",
      "7352/7352 [==============================] - 1s 170us/sample - loss: 0.1033 - accuracy: 0.9567 - val_loss: 0.4120 - val_accuracy: 0.9033\n",
      "Epoch 11/15\n",
      "7352/7352 [==============================] - 1s 163us/sample - loss: 0.0978 - accuracy: 0.9570 - val_loss: 0.4338 - val_accuracy: 0.9006\n",
      "Epoch 12/15\n",
      "7352/7352 [==============================] - 1s 163us/sample - loss: 0.0983 - accuracy: 0.9563 - val_loss: 0.4068 - val_accuracy: 0.9023\n",
      "Epoch 13/15\n",
      "7352/7352 [==============================] - 1s 162us/sample - loss: 0.1014 - accuracy: 0.9566 - val_loss: 0.5441 - val_accuracy: 0.8809\n",
      "Epoch 14/15\n",
      "7352/7352 [==============================] - 1s 162us/sample - loss: 0.0978 - accuracy: 0.9580 - val_loss: 0.4606 - val_accuracy: 0.8992\n",
      "Epoch 15/15\n",
      "7352/7352 [==============================] - 1s 162us/sample - loss: 0.1049 - accuracy: 0.9536 - val_loss: 0.4170 - val_accuracy: 0.9080\n"
     ]
    },
    {
     "data": {
      "text/plain": [
       "<tensorflow.python.keras.callbacks.History at 0x7f03036622e8>"
      ]
     },
     "execution_count": 27,
     "metadata": {},
     "output_type": "execute_result"
    }
   ],
   "source": [
    "model.fit(X_train,\n",
    "          y_train,\n",
    "          epochs=EPOCHS,\n",
    "          batch_size=BATCH_SIZE,\n",
    "          validation_data=(X_test, y_test))"
   ]
  },
  {
   "cell_type": "markdown",
   "metadata": {},
   "source": [
    "## ConvLSTM Network Model"
   ]
  },
  {
   "cell_type": "code",
   "execution_count": 28,
   "metadata": {},
   "outputs": [
    {
     "data": {
      "text/plain": [
       "((7352, 4, 1, 32, 9), (2947, 4, 1, 32, 9))"
      ]
     },
     "execution_count": 28,
     "metadata": {},
     "output_type": "execute_result"
    }
   ],
   "source": [
    "X_train = X_train.reshape(-1, n_steps, 1, n_length, n_features)\n",
    "X_test = X_test.reshape(-1, n_steps, 1, n_length, n_features)\n",
    "X_train.shape, X_test.shape"
   ]
  },
  {
   "cell_type": "code",
   "execution_count": 31,
   "metadata": {},
   "outputs": [],
   "source": [
    "def create_conv_lstm_model():\n",
    "  return tf.keras.Sequential([\n",
    "    tf.keras.layers.InputLayer(input_shape=(n_steps, 1, n_length, n_features)),\n",
    "    tf.keras.layers.ConvLSTM2D(filters=64, kernel_size=(1, 3), activation='relu'),\n",
    "    tf.keras.layers.Dropout(0.5),\n",
    "    tf.keras.layers.Flatten(),\n",
    "    tf.keras.layers.Dense(100, activation='relu'),\n",
    "    tf.keras.layers.Dense(n_outputs)\n",
    "  ])"
   ]
  },
  {
   "cell_type": "code",
   "execution_count": 32,
   "metadata": {},
   "outputs": [
    {
     "name": "stdout",
     "output_type": "stream",
     "text": [
      "Model: \"sequential_5\"\n",
      "_________________________________________________________________\n",
      "Layer (type)                 Output Shape              Param #   \n",
      "=================================================================\n",
      "conv_lst_m2d (ConvLSTM2D)    (None, 1, 30, 64)         56320     \n",
      "_________________________________________________________________\n",
      "dropout_9 (Dropout)          (None, 1, 30, 64)         0         \n",
      "_________________________________________________________________\n",
      "flatten_4 (Flatten)          (None, 1920)              0         \n",
      "_________________________________________________________________\n",
      "dense_7 (Dense)              (None, 100)               192100    \n",
      "_________________________________________________________________\n",
      "dense_8 (Dense)              (None, 6)                 606       \n",
      "=================================================================\n",
      "Total params: 249,026\n",
      "Trainable params: 249,026\n",
      "Non-trainable params: 0\n",
      "_________________________________________________________________\n"
     ]
    }
   ],
   "source": [
    "model = create_conv_lstm_model()\n",
    "model.summary()"
   ]
  },
  {
   "cell_type": "code",
   "execution_count": 33,
   "metadata": {},
   "outputs": [],
   "source": [
    "model.compile(loss=tf.keras.losses.CategoricalCrossentropy(from_logits=True),\n",
    "              optimizer=tf.keras.optimizers.Adam(),\n",
    "              metrics=['accuracy'])"
   ]
  },
  {
   "cell_type": "code",
   "execution_count": 34,
   "metadata": {},
   "outputs": [
    {
     "name": "stdout",
     "output_type": "stream",
     "text": [
      "Train on 7352 samples, validate on 2947 samples\n",
      "Epoch 1/15\n",
      "7352/7352 [==============================] - 4s 608us/sample - loss: 0.5937 - accuracy: 0.7667 - val_loss: 0.5572 - val_accuracy: 0.8320\n",
      "Epoch 2/15\n",
      "7352/7352 [==============================] - 3s 365us/sample - loss: 0.2060 - accuracy: 0.9225 - val_loss: 0.4451 - val_accuracy: 0.8778\n",
      "Epoch 3/15\n",
      "7352/7352 [==============================] - 3s 359us/sample - loss: 0.1538 - accuracy: 0.9403 - val_loss: 0.5302 - val_accuracy: 0.8748\n",
      "Epoch 4/15\n",
      "7352/7352 [==============================] - 3s 365us/sample - loss: 0.1301 - accuracy: 0.9453 - val_loss: 0.5790 - val_accuracy: 0.8836\n",
      "Epoch 5/15\n",
      "7352/7352 [==============================] - 3s 366us/sample - loss: 0.1262 - accuracy: 0.9470 - val_loss: 0.3857 - val_accuracy: 0.8951\n",
      "Epoch 6/15\n",
      "7352/7352 [==============================] - 3s 351us/sample - loss: 0.1169 - accuracy: 0.9505 - val_loss: 0.4752 - val_accuracy: 0.8935\n",
      "Epoch 7/15\n",
      "7352/7352 [==============================] - 3s 363us/sample - loss: 0.1095 - accuracy: 0.9529 - val_loss: 0.4652 - val_accuracy: 0.9019\n",
      "Epoch 8/15\n",
      "7352/7352 [==============================] - 3s 363us/sample - loss: 0.1063 - accuracy: 0.9527 - val_loss: 0.5630 - val_accuracy: 0.9023\n",
      "Epoch 9/15\n",
      "7352/7352 [==============================] - 3s 354us/sample - loss: 0.1065 - accuracy: 0.9529 - val_loss: 0.5076 - val_accuracy: 0.9036\n",
      "Epoch 10/15\n",
      "7352/7352 [==============================] - 3s 350us/sample - loss: 0.1132 - accuracy: 0.9521 - val_loss: 0.5661 - val_accuracy: 0.8992\n",
      "Epoch 11/15\n",
      "7352/7352 [==============================] - 3s 344us/sample - loss: 0.1140 - accuracy: 0.9505 - val_loss: 0.5226 - val_accuracy: 0.9080\n",
      "Epoch 12/15\n",
      "7352/7352 [==============================] - 3s 357us/sample - loss: 0.0974 - accuracy: 0.9563 - val_loss: 0.6090 - val_accuracy: 0.9087\n",
      "Epoch 13/15\n",
      "7352/7352 [==============================] - 3s 358us/sample - loss: 0.0944 - accuracy: 0.9581 - val_loss: 0.6731 - val_accuracy: 0.9036\n",
      "Epoch 14/15\n",
      "7352/7352 [==============================] - 3s 371us/sample - loss: 0.0934 - accuracy: 0.9584 - val_loss: 0.5759 - val_accuracy: 0.9046\n",
      "Epoch 15/15\n",
      "7352/7352 [==============================] - 3s 383us/sample - loss: 0.1026 - accuracy: 0.9584 - val_loss: 0.6384 - val_accuracy: 0.8992\n"
     ]
    },
    {
     "data": {
      "text/plain": [
       "<tensorflow.python.keras.callbacks.History at 0x7f0469480cc0>"
      ]
     },
     "execution_count": 34,
     "metadata": {},
     "output_type": "execute_result"
    }
   ],
   "source": [
    "model.fit(X_train,\n",
    "          y_train,\n",
    "          epochs=EPOCHS,\n",
    "          batch_size=BATCH_SIZE,\n",
    "          validation_data=(X_test, y_test))"
   ]
  }
 ],
 "metadata": {
  "kernelspec": {
   "display_name": "jupyter_env",
   "language": "python",
   "name": "jupyter_env"
  },
  "language_info": {
   "codemirror_mode": {
    "name": "ipython",
    "version": 3
   },
   "file_extension": ".py",
   "mimetype": "text/x-python",
   "name": "python",
   "nbconvert_exporter": "python",
   "pygments_lexer": "ipython3",
   "version": "3.6.8"
  }
 },
 "nbformat": 4,
 "nbformat_minor": 4
}
